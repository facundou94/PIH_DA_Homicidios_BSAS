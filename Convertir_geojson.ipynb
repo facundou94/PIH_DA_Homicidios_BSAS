{
 "cells": [
  {
   "cell_type": "code",
   "execution_count": 1,
   "metadata": {},
   "outputs": [],
   "source": [
    "# 1. Carga de librerías\n",
    "\n",
    "import os\n",
    "import json"
   ]
  },
  {
   "cell_type": "code",
   "execution_count": null,
   "metadata": {},
   "outputs": [],
   "source": [
    "# 2. Lectura de archivo\n",
    "\n",
    "# Obtener directorios de datos\n",
    "directorio_actual = os.getcwd()\n",
    "ruta_archivo = os.path.join(directorio_actual, \"Datos\", \"comunas.txt\")\n",
    "\n",
    "# Convert text file to JSON \n",
    "import json \n",
    "with open('Jendouba.txt') as json_file:     # name of the text file\n",
    "    data = json.load(json_file)\n",
    "\n",
    "# Convert JSON to GeoJson \n",
    "from geojson import dump\n",
    "with open('Jendouba.geojson', 'w') as f:   # name of the output geojson file\n",
    "   dump(data, f)"
   ]
  },
  {
   "cell_type": "code",
   "execution_count": 3,
   "metadata": {},
   "outputs": [
    {
     "name": "stdout",
     "output_type": "stream",
     "text": [
      "El archivo ha sido convertido y guardado como comunas.geojson\n"
     ]
    }
   ],
   "source": [
    "# Obtener directorios de datos\n",
    "directorio_actual = os.getcwd()\n",
    "ruta_archivo = os.path.join(directorio_actual, \"Datos\", \"comunas.txt\")\n",
    "\n",
    "# Define los nombres de los archivos\n",
    "archivo_geojson = 'comunas.geojson'\n",
    "\n",
    "# Lee el contenido del archivo txt\n",
    "with open(ruta_archivo, 'r', encoding='utf-8') as file:\n",
    "    contenido = file.read()\n",
    "\n",
    "# Convierte el contenido a un diccionario para asegurarnos que es un JSON válido\n",
    "try:\n",
    "    datos_geojson = json.loads(contenido)\n",
    "except json.JSONDecodeError as e:\n",
    "    print(f\"Error al convertir el contenido a JSON: {e}\")\n",
    "    raise\n",
    "\n",
    "# Escribe el contenido en un nuevo archivo geojson\n",
    "with open(archivo_geojson, 'w', encoding='utf-8') as file:\n",
    "    json.dump(datos_geojson, file, ensure_ascii=False, indent=4)\n",
    "\n",
    "print(f\"El archivo ha sido convertido y guardado como {archivo_geojson}\")"
   ]
  }
 ],
 "metadata": {
  "kernelspec": {
   "display_name": "Python 3",
   "language": "python",
   "name": "python3"
  },
  "language_info": {
   "codemirror_mode": {
    "name": "ipython",
    "version": 3
   },
   "file_extension": ".py",
   "mimetype": "text/x-python",
   "name": "python",
   "nbconvert_exporter": "python",
   "pygments_lexer": "ipython3",
   "version": "3.12.1"
  }
 },
 "nbformat": 4,
 "nbformat_minor": 2
}
