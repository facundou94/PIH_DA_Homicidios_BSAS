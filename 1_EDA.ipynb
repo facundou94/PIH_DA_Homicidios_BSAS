{
 "cells": [
  {
   "cell_type": "markdown",
   "metadata": {},
   "source": [
    "TRABAJO INDIVIDUAL HENRY N°2\n",
    "Alumno: Urteaga, Facundo Nahuel\n",
    "1_EDA : Análisis exploratorio de datos"
   ]
  },
  {
   "cell_type": "code",
   "execution_count": 1,
   "metadata": {},
   "outputs": [],
   "source": [
    "# Carga de librerías\n",
    "\n",
    "import pandas as pd\n",
    "import numpy as np\n",
    "import os\n",
    "import seaborn as sns\n",
    "import matplotlib.pyplot as plt\n",
    "from IPython.display import display"
   ]
  },
  {
   "cell_type": "code",
   "execution_count": 2,
   "metadata": {},
   "outputs": [],
   "source": [
    "# Obtener directorios de datos\n",
    "\n",
    "directorio_actual = os.getcwd()\n",
    "ruta_hom_hech = os.path.join(directorio_actual, \"Datos\", \"homicidios_hechos.csv\")\n",
    "ruta_hom_vic = os.path.join(directorio_actual, \"Datos\", \"homicidios_victimas.csv\")\n"
   ]
  },
  {
   "cell_type": "code",
   "execution_count": 3,
   "metadata": {},
   "outputs": [],
   "source": [
    "# Lectura de los archivos .csv\n",
    "\n",
    "hom_hech_df = pd.read_csv(ruta_hom_hech)\n",
    "hom_vic_df = pd.read_csv(ruta_hom_vic)"
   ]
  },
  {
   "cell_type": "code",
   "execution_count": null,
   "metadata": {},
   "outputs": [],
   "source": [
    "# Exploro comportamiento de variables y presencia de outliers\n",
    "\n",
    "# df_hom_hech[\"N_VICTIMAS\"].value_counts() # OK\n",
    "# df_hom_hech[\"AAAA\"].value_counts() # OK\n",
    "# df_hom_hech[\"MM\"].value_counts() # OK\n",
    "# df_hom_hech[\"DD\"].max() # OK\n",
    "# df_hom_hech[\"HORA\"].max() # Se encuentra que existe un \"SD\" referente a sin datos.\n",
    "# df_hom_hech[\"HH\"].min() # Se encuentra que existe un \"SD\" referente a sin datos.\n",
    "# df_hom_hech[\"TIPO_DE_CALLE\"].value_counts() # OK\n",
    "# df_hom_hech[\"COMUNA\"].value_counts() # Hay dos con comuna 0\n",
    "# df_hom_hech[\"PARTICIPANTES\"].value_counts() # Hay muchos SD por tratar. El resto OK\n",
    "# df_hom_hech[\"VICTIMA\"].value_counts() # Hay uno por analizar que dice PEATON_MOTO\n",
    "# df_hom_hech[\"ACUSADO\"].value_counts() # OK"
   ]
  },
  {
   "cell_type": "markdown",
   "metadata": {},
   "source": [
    "#### 1. Limpieza (?) de hom_hech_df"
   ]
  },
  {
   "cell_type": "code",
   "execution_count": 4,
   "metadata": {},
   "outputs": [
    {
     "name": "stdout",
     "output_type": "stream",
     "text": [
      "Cantidad de Filas y columnas: (696, 21)\n",
      "Nombre columnas: Index(['ID', 'N_VICTIMAS', 'FECHA', 'AAAA', 'MM', 'DD', 'HORA', 'HH',\n",
      "       'LUGAR_DEL_HECHO', 'TIPO_DE_CALLE', 'Calle', 'Altura', 'Cruce',\n",
      "       'Dirección Normalizada', 'COMUNA', 'XY (CABA)', 'pos x', 'pos y',\n",
      "       'PARTICIPANTES', 'VICTIMA', 'ACUSADO'],\n",
      "      dtype='object')\n"
     ]
    }
   ],
   "source": [
    "# Explorar filas y columnas\n",
    "\n",
    "print('Cantidad de Filas y columnas:',hom_hech_df.shape)\n",
    "print('Nombre columnas:',hom_hech_df.columns)"
   ]
  },
  {
   "cell_type": "code",
   "execution_count": 5,
   "metadata": {},
   "outputs": [
    {
     "name": "stdout",
     "output_type": "stream",
     "text": [
      "<class 'pandas.core.frame.DataFrame'>\n",
      "RangeIndex: 696 entries, 0 to 695\n",
      "Data columns (total 21 columns):\n",
      " #   Column                 Non-Null Count  Dtype  \n",
      "---  ------                 --------------  -----  \n",
      " 0   ID                     696 non-null    object \n",
      " 1   N_VICTIMAS             696 non-null    int64  \n",
      " 2   FECHA                  696 non-null    object \n",
      " 3   AAAA                   696 non-null    int64  \n",
      " 4   MM                     696 non-null    int64  \n",
      " 5   DD                     696 non-null    int64  \n",
      " 6   HORA                   696 non-null    object \n",
      " 7   HH                     696 non-null    object \n",
      " 8   LUGAR_DEL_HECHO        696 non-null    object \n",
      " 9   TIPO_DE_CALLE          696 non-null    object \n",
      " 10  Calle                  695 non-null    object \n",
      " 11  Altura                 129 non-null    float64\n",
      " 12  Cruce                  525 non-null    object \n",
      " 13  Dirección Normalizada  688 non-null    object \n",
      " 14  COMUNA                 696 non-null    int64  \n",
      " 15  XY (CABA)              696 non-null    object \n",
      " 16  pos x                  696 non-null    object \n",
      " 17  pos y                  696 non-null    object \n",
      " 18  PARTICIPANTES          696 non-null    object \n",
      " 19  VICTIMA                696 non-null    object \n",
      " 20  ACUSADO                696 non-null    object \n",
      "dtypes: float64(1), int64(5), object(15)\n",
      "memory usage: 114.3+ KB\n"
     ]
    }
   ],
   "source": [
    "# Exploro datos faltantes\n",
    "\n",
    "hom_hech_df.info()"
   ]
  },
  {
   "cell_type": "code",
   "execution_count": 6,
   "metadata": {},
   "outputs": [
    {
     "name": "stdout",
     "output_type": "stream",
     "text": [
      "ID                         0\n",
      "N_VICTIMAS                 0\n",
      "FECHA                      0\n",
      "AAAA                       0\n",
      "MM                         0\n",
      "DD                         0\n",
      "HORA                       0\n",
      "HH                         0\n",
      "LUGAR_DEL_HECHO            0\n",
      "TIPO_DE_CALLE              0\n",
      "Calle                      1\n",
      "Altura                   567\n",
      "Cruce                    171\n",
      "Dirección Normalizada      8\n",
      "COMUNA                     0\n",
      "XY (CABA)                  0\n",
      "pos x                      0\n",
      "pos y                      0\n",
      "PARTICIPANTES              0\n",
      "VICTIMA                    0\n",
      "ACUSADO                    0\n",
      "dtype: int64\n"
     ]
    }
   ],
   "source": [
    "# Mostrar el número de valores faltantes por columna\n",
    "print(hom_hech_df.isnull().sum())\n",
    "\n",
    "# Conclusiones del análisis:\n",
    "\n",
    "# Hay una calle sin datos debido a que lugar del hecho tiene \"sd\"\n",
    "# En general altura y cruce estan intercalados (si no hay altura, quiere decir que fue en un cruce)\n",
    "# En general donde falta altura o cruce es en las AUTOPISTAS"
   ]
  },
  {
   "cell_type": "code",
   "execution_count": 7,
   "metadata": {},
   "outputs": [
    {
     "name": "stdout",
     "output_type": "stream",
     "text": [
      "Número de registros duplicados: 0\n"
     ]
    }
   ],
   "source": [
    "# Verificar si hay duplicados en el DataFrame\n",
    "duplicados = hom_hech_df.duplicated()\n",
    "\n",
    "# Contar el número de registros duplicados\n",
    "print(f\"Número de registros duplicados: {duplicados.sum()}\")\n"
   ]
  },
  {
   "cell_type": "code",
   "execution_count": 8,
   "metadata": {},
   "outputs": [
    {
     "name": "stdout",
     "output_type": "stream",
     "text": [
      "0\n"
     ]
    }
   ],
   "source": [
    "# Convertir las columnas FECHA y HORA a formato datetime especificando el formato correcto\n",
    "\n",
    "hom_hech_df['FECHA'] = pd.to_datetime(hom_hech_df['FECHA'], format='%m/%d/%Y', errors='coerce')\n",
    "\n",
    "print(hom_hech_df['FECHA'].isna().sum())"
   ]
  },
  {
   "cell_type": "code",
   "execution_count": 9,
   "metadata": {},
   "outputs": [
    {
     "name": "stdout",
     "output_type": "stream",
     "text": [
      "21\n"
     ]
    }
   ],
   "source": [
    "print(hom_hech_df.loc[4, 'FECHA'].day)"
   ]
  },
  {
   "cell_type": "code",
   "execution_count": 10,
   "metadata": {},
   "outputs": [
    {
     "name": "stdout",
     "output_type": "stream",
     "text": [
      "1\n"
     ]
    }
   ],
   "source": [
    "# Convertir la columna HORA a formato de tiempo\n",
    "hom_hech_df['HORA'] = pd.to_datetime(hom_hech_df['HORA'], format='%H:%M:%S', errors='coerce').dt.time\n",
    "\n",
    "print(hom_hech_df['HORA'].isna().sum())"
   ]
  },
  {
   "cell_type": "code",
   "execution_count": 11,
   "metadata": {},
   "outputs": [
    {
     "name": "stdout",
     "output_type": "stream",
     "text": [
      "5\n"
     ]
    }
   ],
   "source": [
    "print(hom_hech_df.loc[4, 'HORA'].hour)"
   ]
  },
  {
   "cell_type": "code",
   "execution_count": 12,
   "metadata": {},
   "outputs": [
    {
     "name": "stdout",
     "output_type": "stream",
     "text": [
      "            ID  N_VICTIMAS      FECHA  AAAA  MM  DD      HORA  HH  \\\n",
      "35   2016-0049           1 2016-04-17  2016   4  17  00:00:00   0   \n",
      "38   2016-0052           1 2016-04-20  2016   4  20  20:00:00  20   \n",
      "64   2016-0087           1 2016-07-02  2016   7   3  00:10:00   0   \n",
      "71   2016-0096           1 2016-07-25  2016   7  25  07:00:00   7   \n",
      "81   2016-0107           1 2016-08-20  2016   8  20  08:22:00   8   \n",
      "91   2016-0118           1 2016-09-04  2016   9   4  03:30:00   3   \n",
      "100  2016-0130           1 2016-10-04  2016  10   4  12:30:00  12   \n",
      "106  2016-0136           1 2016-10-25  2016  10  25  00:00:00   0   \n",
      "119  2016-0151           1 2016-11-18  2016  11  18  20:35:00  20   \n",
      "127  2016-0160           1 2016-12-06  2016  12   6  05:30:00   5   \n",
      "139  2016-0174           1 2016-12-27  2016  12  27  00:00:00   0   \n",
      "148  2017-0009           1 2017-01-16  2017   1  16  13:56:00  13   \n",
      "155  2017-0016           1 2017-02-03  2017   2   3  05:12:21   5   \n",
      "176  2017-0042           1 2017-04-10  2017   4  10  09:00:00   9   \n",
      "180  2017-0050           2 2017-04-28  2017   4  28  11:08:08  11   \n",
      "181  2017-0051           1 2017-05-01  2017   5   1  03:47:47   3   \n",
      "234  2017-0112           2 2017-09-10  2017   9  10  09:32:17   9   \n",
      "256  2017-0140           1 2017-11-19  2017  11  19  23:22:17  23   \n",
      "281  2018-0007           1 2018-01-11  2018   1  11  02:30:00   2   \n",
      "294  2018-0020           1 2018-02-19  2018   2  19  22:00:00  22   \n",
      "313  2018-0039           1 2018-04-21  2018   4  21  22:15:00  22   \n",
      "346  2018-0072           1 2018-07-11  2018   7  11  13:15:00  13   \n",
      "385  2018-0111           1 2018-10-19  2018  10  19  12:13:00  12   \n",
      "398  2018-0124           1 2018-11-15  2018  11  15  19:40:00  19   \n",
      "474  2019-0058           1 2019-07-10  2019   7  10  09:20:00   9   \n",
      "492  2019-0076           1 2019-09-05  2019   9   5  18:00:00  18   \n",
      "511  2019-0095           1 2019-11-20  2019  11  20  15:30:00  15   \n",
      "513  2019-0097           1 2019-11-25  2019  11  25  08:50:00   8   \n",
      "546  2020-0026           1 2020-05-17  2020   5  17  06:40:00   6   \n",
      "555  2020-0035           1 2020-08-04  2020   8   4  05:30:00   5   \n",
      "559  2020-0039           1 2020-09-01  2020   9   1  19:17:42  19   \n",
      "585  2020-0066           1 2020-12-07  2020  12   7  04:30:00   4   \n",
      "599  2021-0001           1 2021-01-06  2021   1   6  18:00:00  18   \n",
      "601  2021-0003           1 2021-01-10  2021   1  10  07:40:00   7   \n",
      "621  2021-0023           1 2021-03-01  2021   3   1  09:20:00   9   \n",
      "624  2021-0026           1 2021-03-15  2021   3  15  02:35:00   2   \n",
      "631  2021-0033           1 2021-04-14  2021   4  14  17:50:00  17   \n",
      "643  2021-0045           1 2021-05-26  2021   5  26  17:24:00  17   \n",
      "655  2021-0057           1 2021-07-10  2021   7  10  23:30:00  23   \n",
      "665  2021-0067           1 2021-08-08  2021   8   8  09:29:00   9   \n",
      "679  2021-0081           1 2021-11-02  2021  11   2  13:35:00  13   \n",
      "680  2021-0082           1 2021-11-06  2021  11   6  04:39:00   4   \n",
      "\n",
      "                                       LUGAR_DEL_HECHO TIPO_DE_CALLE  ...  \\\n",
      "35   AUTOPISTA 1 SUR PRESIDENTE ARTURO FRONDIZI KM....     AUTOPISTA  ...   \n",
      "38                          AUTOPISTA LUGONES PK 10000     AUTOPISTA  ...   \n",
      "64    AUTOPISTA 1 SUR PTE ARTURO FRONDIZI Y AV CASEROS     AUTOPISTA  ...   \n",
      "71        AUTOPISTA DELLEPIANE LUIS TTE. GRAL. KM. 2,3     AUTOPISTA  ...   \n",
      "81             AUTOPISTA 9 DE JULIO SUR ALT AV MENDOZA     AUTOPISTA  ...   \n",
      "91          AUTOPISTA 1 SUR PTE ARTURO FRONDIZI KM 2.9     AUTOPISTA  ...   \n",
      "100               AUTOPISTA 9 DE JULIO SUR Y AV BRASIL     AUTOPISTA  ...   \n",
      "106                   AU BUENOS AIRES - LA PLATA KM. 4     AUTOPISTA  ...   \n",
      "119                                                 SD         CALLE  ...   \n",
      "127                AUTOPISTA PERITO MORENO ALTURA VELZ     AUTOPISTA  ...   \n",
      "139                               AUTOPISTA 25 DE MAYO     AUTOPISTA  ...   \n",
      "148                          AU 25 DE MAYO Y AV. BOEDO     AUTOPISTA  ...   \n",
      "155  AU 25 DE MAYO, KILOMETRO 8.3, SENTIDO HACIA PR...     AUTOPISTA  ...   \n",
      "176                      AV. LEOPOLDO LUGONES PKM 6900      GRAL PAZ  ...   \n",
      "180            AU PERITO MORENO Y RAMAL ENLACE AU1/AU6     AUTOPISTA  ...   \n",
      "181                                 AU DELLEPIANE 2400     AUTOPISTA  ...   \n",
      "234                         AU 25 DE MAYO Y AV. VARELA     AUTOPISTA  ...   \n",
      "256                        AU ARTURO FRONDIZI PKM 3100     AUTOPISTA  ...   \n",
      "281                           AU Perito Moreno  KM 0.6     AUTOPISTA  ...   \n",
      "294   Fernandez de la Cruz Subida AU Héctor J. Cámpora     AUTOPISTA  ...   \n",
      "313                           AUTOPISTA LUGONES KM 4.7     AUTOPISTA  ...   \n",
      "346  AU Dellepiane kilometro 0.0, altura calle Mont...     AUTOPISTA  ...   \n",
      "385    AU Perito Moreno y Av. Eva Perón SENTIDO CENTRO     AUTOPISTA  ...   \n",
      "398          AU Perito Moreno y Reservistas Argentinos     AUTOPISTA  ...   \n",
      "474  AUTOPISTA PERITO MORENO ALTURA PASO A NIVEL DE...     AUTOPISTA  ...   \n",
      "492  AUTOPISTA 1 SUR PRESIDENTE ARTURO FRONDIZI ALT...     AUTOPISTA  ...   \n",
      "511  AUTOPISTA 1 SUR PRESIDENTE ARTURO FRONDIZI ALT...     AUTOPISTA  ...   \n",
      "513                     AUTOPISTA PERITO MORENO KM 5,6     AUTOPISTA  ...   \n",
      "546                       LUGONES, LEOPOLDO AV. KM 6,1     AUTOPISTA  ...   \n",
      "555  AU 25 DE MAYO ALTURA PUMACAHUA Y RECUERO, CASI...     AUTOPISTA  ...   \n",
      "559                                    MURGUIONDO 2700         CALLE  ...   \n",
      "585  AUTOPISTA PERITO MORENO ALTURA ESTACION DE TRE...     AUTOPISTA  ...   \n",
      "599                                  AU FRONDIZI KM. 3     AUTOPISTA  ...   \n",
      "601                              AU 25 DE MAYO KM. 3,7     AUTOPISTA  ...   \n",
      "621                   AU BUENOS AIRES LA PLATA  KM 4,5     AUTOPISTA  ...   \n",
      "624        AU FRONDIZI ALTURA QUINQUELA MARTIN, BENITO     AUTOPISTA  ...   \n",
      "631              AU 25 DE MAYO ALTURA BAJADA BOEDO AV.     AUTOPISTA  ...   \n",
      "643                           AU FRONDIZI Y SUAREZ AV.     AUTOPISTA  ...   \n",
      "655           AU ILLIA KM 3.2, ALTURA CABINAS DE PEAJE     AUTOPISTA  ...   \n",
      "665                 AU FRONDIZI KM 2,9 (ALTURA BRASIL)     AUTOPISTA  ...   \n",
      "679                        AU FRONDIZI SUBIDA BRANDSEN     AUTOPISTA  ...   \n",
      "680                   AU 25 DE MAYO KM7 (ALTURA PASCO)     AUTOPISTA  ...   \n",
      "\n",
      "    Altura  Cruce                              Dirección Normalizada COMUNA  \\\n",
      "35     NaN    NaN         AUTOPISTA 1 SUR PRESIDENTE ARTURO FRONDIZI      4   \n",
      "38     NaN    NaN                                                NaN     13   \n",
      "64     NaN    NaN  AUTOPISTA 1 SUR PRESIDENTE ARTURO FRONDIZI y C...      1   \n",
      "71     NaN    NaN               AUTOPISTA DELLEPIANE LUIS TTE. GRAL.      8   \n",
      "81     NaN    NaN  AUTOPISTA 1 SUR PRESIDENTE ARTURO FRONDIZI y D...      4   \n",
      "91     NaN    NaN  AUTOPISTA 1 SUR PRESIDENTE ARTURO FRONDIZI KM....      1   \n",
      "100    NaN    NaN  AUTOPISTA 1 SUR PRESIDENTE ARTURO FRONDIZI y B...      1   \n",
      "106    NaN    NaN                                                NaN      4   \n",
      "119    NaN    NaN                                                NaN      0   \n",
      "127    NaN    NaN   AUTOPISTA PERITO MORENO (ALTURA VELEZ SARSFIELD)      9   \n",
      "139    NaN    NaN                               AUTOPISTA 25 DE MAYO      0   \n",
      "148    NaN    NaN                   AUTOPISTA 25 DE MAYO y BOEDO AV.      5   \n",
      "155    NaN    NaN                       AUTOPISTA 25 DE MAYO KM. 8.3      1   \n",
      "176    NaN    NaN                              LUGONES, LEOPOLDO AV.     14   \n",
      "180    NaN    NaN                                                NaN      9   \n",
      "181    NaN    NaN                                                NaN      7   \n",
      "234    NaN    NaN                  AUTOPISTA 25 DE MAYO y VARELA AV.      7   \n",
      "256    NaN    NaN         AUTOPISTA 1 SUR PRESIDENTE ARTURO FRONDIZI      4   \n",
      "281    NaN    NaN                    AUTOPISTA PERITO MORENO KM. 0.6      9   \n",
      "294    NaN    NaN  FERNANDEZ DE LA CRUZ F., GRAL. AV. y AUTOPISTA...      8   \n",
      "313    NaN    NaN                                                NaN     14   \n",
      "346    NaN    NaN     AUTOPISTA DELLEPIANE LUIS TTE. GRAL. y MONTIEL      8   \n",
      "385    NaN    NaN          AUTOPISTA PERITO MORENO & PERON, EVA  AV.      9   \n",
      "398    NaN    NaN   AUTOPISTA PERITO MORENO y RESERVISTAS ARGENTINOS      9   \n",
      "474    NaN    NaN                 AUTOPISTA PERITO MORENO e IRIGOYEN     10   \n",
      "492    NaN    NaN  AUTOPISTA 1 SUR PRESIDENTE ARTURO FRONDIZI y D...      4   \n",
      "511    NaN    NaN  AUTOPISTA 1 SUR PRESIDENTE ARTURO FRONDIZI y C...      1   \n",
      "513    NaN    NaN                    AUTOPISTA PERITO MORENO KM. 5.6      9   \n",
      "546    NaN    NaN                                                NaN     14   \n",
      "555    NaN    NaN                   AUTOPISTA 25 DE MAYO y PUMACAHUA      7   \n",
      "559    NaN    NaN                                         MURGUIONDO      9   \n",
      "585    NaN    NaN  AUTOPISTA PERITO MORENO (ALTURA ESTACION DE TR...     10   \n",
      "599    NaN    NaN                                  AU FRONDIZI KM. 3      1   \n",
      "601    NaN    NaN                       AUTOPISTA 25 DE MAYO KM. 3.7      7   \n",
      "621    NaN    NaN                                                NaN      4   \n",
      "624    NaN    NaN  AUTOPISTA 1 SUR PRESIDENTE ARTURO FRONDIZI y Q...      4   \n",
      "631    NaN    NaN                   AUTOPISTA 25 DE MAYO y BOEDO AV.      5   \n",
      "643    NaN    NaN  AUTOPISTA 1 SUR PRESIDENTE ARTURO FRONDIZI y S...      4   \n",
      "655    NaN    NaN          AUTOPISTA  ARTURO ILLIA (CABINA DE PEAJE)      2   \n",
      "665    NaN    NaN  AUTOPISTA 1 SUR PRESIDENTE ARTURO FRONDIZI y B...      1   \n",
      "679    NaN    NaN  AUTOPISTA 1 SUR PRESIDENTE ARTURO FRONDIZI y B...      4   \n",
      "680    NaN    NaN                       AUTOPISTA 25 DE MAYO y PASCO      3   \n",
      "\n",
      "                                   XY (CABA)               pos x  \\\n",
      "35                               Point (. .)  -58.37714647568196   \n",
      "38                               Point (. .)                   .   \n",
      "64   Point (107762.62066736 100018.90176187)        -58.37864583   \n",
      "71                               Point (. .)  -58.47433193007387   \n",
      "81    Point (108408.31858686 97219.56218484)        -58.37157668   \n",
      "91   Point (107696.68171812 100254.76268710)        -58.37936704   \n",
      "100  Point (107720.24059557 100176.85101454)        -58.37910942   \n",
      "106                              Point (. .)                   .   \n",
      "119                              Point (. .)                   .   \n",
      "127    Point (94867.91408532 99212.26216105)        -58.51927194   \n",
      "139                              Point (. .)                   .   \n",
      "148   Point (104341.1368196 100202.74363294)        -58.41595919   \n",
      "155  Point (107547.76713701 100705.57738660)        -58.38099494   \n",
      "176                              Point (. .)                   .   \n",
      "180                              Point (. .)                   .   \n",
      "181                              Point (. .)                   .   \n",
      "234   Point (100479.14412395 98812.52258620)        -58.45807401   \n",
      "256                              Point (. .)                   .   \n",
      "281    Point (94340.14761734 99250.24722124)        -58.52502765   \n",
      "294   Point (101207.19032483 96015.90575056)        -58.45012957   \n",
      "313                              Point (. .)                   .   \n",
      "346    Point (98224.62123059 93867.97738800)        -58.48267426   \n",
      "385    Point (99423.87045126 97756.09331484)        -58.46958442   \n",
      "398    Point (94668.77734942 99160.32825286)        -58.52144411   \n",
      "474    Point (96064.06591151 99221.69236283)        -58.50622631   \n",
      "492   Point (108408.31866027 97219.56223456)        -58.37157668   \n",
      "511  Point (107762.62066755 100018.90176184)        -58.37864583   \n",
      "513    Point (98724.36593359 97905.39654686)        -58.47721439   \n",
      "546                              Point (. .)                   .   \n",
      "555   Point (101156.55025059 99210.16912341)        -58.45068621   \n",
      "559                              Point (. .)                   .   \n",
      "585    Point (96471.01552298 99259.49298489)        -58.50178784   \n",
      "599  Point (107674.71781880 100334.26713627)        -58.37960727   \n",
      "601   Point (103005.63484321 99983.28177809)        -58.43052224   \n",
      "621                              Point (. .)                   .   \n",
      "624   Point (108038.11136985 98307.74373426)        -58.37562539   \n",
      "631  Point (104341.13684161 100202.74307433)        -58.41595919   \n",
      "643   Point (107903.91828587 98767.43091425)        -58.37709334   \n",
      "655  Point (106489.89755339 105947.16700228)        -58.39257023   \n",
      "665  Point (107720.23994349 100176.85080944)        -58.37910943   \n",
      "679   Point (107979.30419282 99027.13636949)        -58.37627355   \n",
      "680  Point (106179.07517962 100523.29161457)        -58.39591856   \n",
      "\n",
      "                  pos y       PARTICIPANTES VICTIMA      ACUSADO  \n",
      "35   -34.63657525428238               SD-SD      SD           SD  \n",
      "38                    .             MOTO-SD    MOTO           SD  \n",
      "64         -34.62907067    MOTO-OBJETO FIJO    MOTO  OBJETO FIJO  \n",
      "71   -34.66684950051973         MOTO-CARGAS    MOTO       CARGAS  \n",
      "81         -34.65429986           MOTO-AUTO    MOTO         AUTO  \n",
      "91         -34.62694503           AUTO-AUTO    AUTO         AUTO  \n",
      "100        -34.62764717         MOTO-CARGAS    MOTO       CARGAS  \n",
      "106                   .         MOTO-CARGAS    MOTO       CARGAS  \n",
      "119                   .           PEATON-SD  PEATON           SD  \n",
      "127        -34.63635787  CARGAS-OBJETO FIJO  CARGAS  OBJETO FIJO  \n",
      "139                   .               SD-SD      SD           SD  \n",
      "148        -34.62743346         MOTO-CARGAS    MOTO       CARGAS  \n",
      "155        -34.62288231         MOTO-CARGAS    MOTO       CARGAS  \n",
      "176                   .         MOTO-CARGAS    MOTO       CARGAS  \n",
      "180                   .         MOTO-CARGAS    MOTO       CARGAS  \n",
      "181                   .           AUTO-AUTO    AUTO         AUTO  \n",
      "234        -34.63997430    AUTO-OBJETO FIJO    AUTO  OBJETO FIJO  \n",
      "256                   .      MOTO-PASAJEROS    MOTO    PASAJEROS  \n",
      "281        -34.63601265           AUTO-AUTO    AUTO         AUTO  \n",
      "294        -34.66518343         MOTO-CARGAS    MOTO       CARGAS  \n",
      "313                   .         PEATON-AUTO  PEATON         AUTO  \n",
      "346        -34.68454456         MOTO-CARGAS    MOTO       CARGAS  \n",
      "385        -34.64949724         MOTO-CARGAS    MOTO       CARGAS  \n",
      "398        -34.63682499       CARGAS-CARGAS  CARGAS       CARGAS  \n",
      "474        -34.63627822      MOTO-PASAJEROS    MOTO    PASAJEROS  \n",
      "492        -34.65429986         MOTO-CARGAS    MOTO       CARGAS  \n",
      "511        -34.62907067         MOTO-CARGAS    MOTO       CARGAS  \n",
      "513        -34.64815069            MULTIPLE    MOTO     MULTIPLE  \n",
      "546                   .    MOTO-OBJETO FIJO    MOTO  OBJETO FIJO  \n",
      "555        -34.63638927      MOTO-PASAJEROS    MOTO    PASAJEROS  \n",
      "559                   .       PEATON-CARGAS  PEATON       CARGAS  \n",
      "585        -34.63593897    MOTO-OBJETO FIJO    MOTO  OBJETO FIJO  \n",
      "599        -34.62622851           MOTO-AUTO    MOTO         AUTO  \n",
      "601        -34.62941648    MOTO-OBJETO FIJO    MOTO  OBJETO FIJO  \n",
      "621                   .         MOTO-CARGAS    MOTO       CARGAS  \n",
      "624        -34.64449357    MOTO-OBJETO FIJO    MOTO  OBJETO FIJO  \n",
      "631        -34.62743346    AUTO-OBJETO FIJO    AUTO  OBJETO FIJO  \n",
      "643        -34.64035082            MULTIPLE    MOTO     MULTIPLE  \n",
      "655        -34.57563957    AUTO-OBJETO FIJO    AUTO  OBJETO FIJO  \n",
      "665        -34.62764718    MOTO-OBJETO FIJO    MOTO  OBJETO FIJO  \n",
      "679        -34.63800916         MOTO-CARGAS    MOTO       CARGAS  \n",
      "680        -34.62453459           MOTO-AUTO    MOTO         AUTO  \n",
      "\n",
      "[42 rows x 21 columns]\n"
     ]
    }
   ],
   "source": [
    "# Filtrar las filas donde 'Altura' y 'Calle' están vacías\n",
    "filas_vacias = hom_hech_df[hom_hech_df['Altura'].isna() & hom_hech_df['Cruce'].isna()]\n",
    "print(filas_vacias)"
   ]
  },
  {
   "cell_type": "code",
   "execution_count": 13,
   "metadata": {},
   "outputs": [
    {
     "name": "stdout",
     "output_type": "stream",
     "text": [
      "643                    AU FRONDIZI Y SUAREZ AV.\n",
      "655    AU ILLIA KM 3.2, ALTURA CABINAS DE PEAJE\n",
      "665          AU FRONDIZI KM 2,9 (ALTURA BRASIL)\n",
      "679                 AU FRONDIZI SUBIDA BRANDSEN\n",
      "680            AU 25 DE MAYO KM7 (ALTURA PASCO)\n",
      "Name: LUGAR_DEL_HECHO, dtype: object\n"
     ]
    }
   ],
   "source": [
    "# Mostrar las filas filtradas\n",
    "print(filas_vacias[\"LUGAR_DEL_HECHO\"].tail())"
   ]
  },
  {
   "cell_type": "code",
   "execution_count": 107,
   "metadata": {},
   "outputs": [],
   "source": [
    "# Filtrar filas donde 'LUGAR_DEL_HECHO' contiene la palabra 'AUTOPISTA'\n",
    "#filas_con_autopista = filas_vacias[filas_vacias['LUGAR_DEL_HECHO'].str.contains('AV.', case=False, na=False)]\n",
    "\n",
    "# Contar el número de filas que cumplen la condición\n",
    "#numero_filas_con_autopista = filas_con_autopista.shape[0]\n",
    "\n",
    "#print(f'Número de filas donde \"Altura\" y \"Calle\" están vacías y \"LUGAR_DEL_HECHO\" contiene \"AUTOPISTA\": {numero_filas_con_autopista}')"
   ]
  },
  {
   "cell_type": "code",
   "execution_count": 108,
   "metadata": {},
   "outputs": [],
   "source": [
    "# Mediante una búsqueda y análisis exhaustivo, encontramos que aquellas filas que no tienen el dato de \"altura\" o \"cruce\" mayoritariamente corresponden a accidentes en autopistas\n",
    "# Debido a esto, generamos una nueva columna \"TIPO_DE_ZONA\" que indica si el accidente fue en la cuadra, una esquina, o una autopista."
   ]
  },
  {
   "cell_type": "code",
   "execution_count": 14,
   "metadata": {},
   "outputs": [],
   "source": [
    "# Creación de una función para evaluar el tipo de zona del accidente y crear nueva columna\n",
    "\n",
    "def determinar_tipo_de_zona(row):\n",
    "    if 'AUTOPISTA' in row['TIPO_DE_CALLE'] or 'GRAL PAZ' in row['TIPO_DE_CALLE']:\n",
    "        return 'AUTOPISTA'\n",
    "    elif pd.notna(row['Altura']):\n",
    "        return 'CUADRA'\n",
    "    elif pd.notna(row['Cruce']):\n",
    "        return 'ESQUINA'\n",
    "    else:\n",
    "        return None  # O algún valor por defecto si todas las condiciones son falsas\n"
   ]
  },
  {
   "cell_type": "code",
   "execution_count": 15,
   "metadata": {},
   "outputs": [
    {
     "name": "stdout",
     "output_type": "stream",
     "text": [
      "   Altura                                Cruce TIPO_DE_CALLE TIPO_DE_ZONA\n",
      "0     NaN  FERNANDEZ DE LA CRUZ, F., GRAL. AV.       AVENIDA      ESQUINA\n",
      "1     NaN                  DE LOS CORRALES AV.      GRAL PAZ    AUTOPISTA\n",
      "2  2034.0                                  NaN       AVENIDA       CUADRA\n",
      "3     NaN             VILLEGAS, CONRADO, GRAL.       AVENIDA      ESQUINA\n",
      "4     NaN              SAENZ PE?A, LUIS, PRES.       AVENIDA      ESQUINA\n"
     ]
    }
   ],
   "source": [
    "# Crear la nueva columna TIPO_DE_ZONA aplicando la función a cada fila\n",
    "hom_hech_df['TIPO_DE_ZONA'] = hom_hech_df.apply(determinar_tipo_de_zona, axis=1)\n",
    "\n",
    "# Verificar las primeras filas para asegurarse de que la columna se creó correctamente\n",
    "print(hom_hech_df[['Altura', 'Cruce', 'TIPO_DE_CALLE', 'TIPO_DE_ZONA']].head())"
   ]
  },
  {
   "cell_type": "code",
   "execution_count": 16,
   "metadata": {},
   "outputs": [
    {
     "data": {
      "text/plain": [
       "TIPO_DE_ZONA\n",
       "ESQUINA      442\n",
       "AUTOPISTA    131\n",
       "CUADRA       121\n",
       "Name: count, dtype: int64"
      ]
     },
     "execution_count": 16,
     "metadata": {},
     "output_type": "execute_result"
    }
   ],
   "source": [
    "hom_hech_df['TIPO_DE_ZONA'].value_counts()"
   ]
  },
  {
   "cell_type": "code",
   "execution_count": 17,
   "metadata": {},
   "outputs": [],
   "source": [
    "# Completar los valores vacíos en \"Dirección Normalizada\" con los valores de \"LUGAR_DEL_HECHO\"\n",
    "hom_hech_df['Dirección Normalizada'] = hom_hech_df['Dirección Normalizada'].fillna(hom_hech_df['LUGAR_DEL_HECHO'])"
   ]
  },
  {
   "cell_type": "code",
   "execution_count": 18,
   "metadata": {},
   "outputs": [
    {
     "name": "stdout",
     "output_type": "stream",
     "text": [
      "[ 8  9  1 11 15  4  7 12  3 13 14 10  6  2  5]\n"
     ]
    }
   ],
   "source": [
    "# Eliminar las filas donde el valor de la columna \"COMUNA\" sea igual a 0\n",
    "hom_hech_df = hom_hech_df.drop(hom_hech_df[hom_hech_df['COMUNA'] == 0].index)\n",
    "\n",
    "# Verificar que las filas se han eliminado correctamente\n",
    "print(hom_hech_df['COMUNA'].unique())  # Deberías obtener valores diferentes de 0"
   ]
  },
  {
   "cell_type": "code",
   "execution_count": 19,
   "metadata": {},
   "outputs": [
    {
     "data": {
      "text/plain": [
       "Index(['ID', 'N_VICTIMAS', 'FECHA', 'AAAA', 'MM', 'DD', 'HORA', 'HH',\n",
       "       'LUGAR_DEL_HECHO', 'TIPO_DE_CALLE', 'Calle', 'Altura', 'Cruce',\n",
       "       'Dirección Normalizada', 'COMUNA', 'XY (CABA)', 'pos x', 'pos y',\n",
       "       'PARTICIPANTES', 'VICTIMA', 'ACUSADO', 'TIPO_DE_ZONA'],\n",
       "      dtype='object')"
      ]
     },
     "execution_count": 19,
     "metadata": {},
     "output_type": "execute_result"
    }
   ],
   "source": [
    "hom_hech_df.columns"
   ]
  },
  {
   "cell_type": "code",
   "execution_count": 20,
   "metadata": {},
   "outputs": [],
   "source": [
    "hom_hech_df = hom_hech_df[['ID', 'N_VICTIMAS', 'FECHA', 'HORA', 'TIPO_DE_CALLE','Dirección Normalizada',\n",
    "                           'TIPO_DE_ZONA', 'COMUNA','PARTICIPANTES', 'VICTIMA', 'ACUSADO', ]]"
   ]
  },
  {
   "cell_type": "code",
   "execution_count": 21,
   "metadata": {},
   "outputs": [
    {
     "data": {
      "text/html": [
       "<div>\n",
       "<style scoped>\n",
       "    .dataframe tbody tr th:only-of-type {\n",
       "        vertical-align: middle;\n",
       "    }\n",
       "\n",
       "    .dataframe tbody tr th {\n",
       "        vertical-align: top;\n",
       "    }\n",
       "\n",
       "    .dataframe thead th {\n",
       "        text-align: right;\n",
       "    }\n",
       "</style>\n",
       "<table border=\"1\" class=\"dataframe\">\n",
       "  <thead>\n",
       "    <tr style=\"text-align: right;\">\n",
       "      <th></th>\n",
       "      <th>ID</th>\n",
       "      <th>N_VICTIMAS</th>\n",
       "      <th>FECHA</th>\n",
       "      <th>HORA</th>\n",
       "      <th>TIPO_DE_CALLE</th>\n",
       "      <th>Dirección Normalizada</th>\n",
       "      <th>TIPO_DE_ZONA</th>\n",
       "      <th>COMUNA</th>\n",
       "      <th>PARTICIPANTES</th>\n",
       "      <th>VICTIMA</th>\n",
       "      <th>ACUSADO</th>\n",
       "    </tr>\n",
       "  </thead>\n",
       "  <tbody>\n",
       "    <tr>\n",
       "      <th>0</th>\n",
       "      <td>2016-0001</td>\n",
       "      <td>1</td>\n",
       "      <td>2016-01-01</td>\n",
       "      <td>04:00:00</td>\n",
       "      <td>AVENIDA</td>\n",
       "      <td>PIEDRA BUENA AV. y FERNANDEZ DE LA CRUZ, F., G...</td>\n",
       "      <td>ESQUINA</td>\n",
       "      <td>8</td>\n",
       "      <td>MOTO-AUTO</td>\n",
       "      <td>MOTO</td>\n",
       "      <td>AUTO</td>\n",
       "    </tr>\n",
       "    <tr>\n",
       "      <th>1</th>\n",
       "      <td>2016-0002</td>\n",
       "      <td>1</td>\n",
       "      <td>2016-01-02</td>\n",
       "      <td>01:15:00</td>\n",
       "      <td>GRAL PAZ</td>\n",
       "      <td>PAZ, GRAL. AV. y DE LOS CORRALES AV.</td>\n",
       "      <td>AUTOPISTA</td>\n",
       "      <td>9</td>\n",
       "      <td>AUTO-PASAJEROS</td>\n",
       "      <td>AUTO</td>\n",
       "      <td>PASAJEROS</td>\n",
       "    </tr>\n",
       "    <tr>\n",
       "      <th>2</th>\n",
       "      <td>2016-0003</td>\n",
       "      <td>1</td>\n",
       "      <td>2016-01-03</td>\n",
       "      <td>07:00:00</td>\n",
       "      <td>AVENIDA</td>\n",
       "      <td>ENTRE RIOS AV. 2034</td>\n",
       "      <td>CUADRA</td>\n",
       "      <td>1</td>\n",
       "      <td>MOTO-AUTO</td>\n",
       "      <td>MOTO</td>\n",
       "      <td>AUTO</td>\n",
       "    </tr>\n",
       "    <tr>\n",
       "      <th>3</th>\n",
       "      <td>2016-0004</td>\n",
       "      <td>1</td>\n",
       "      <td>2016-01-10</td>\n",
       "      <td>00:00:00</td>\n",
       "      <td>AVENIDA</td>\n",
       "      <td>LARRAZABAL AV. y VILLEGAS, CONRADO, GRAL.</td>\n",
       "      <td>ESQUINA</td>\n",
       "      <td>8</td>\n",
       "      <td>MOTO-SD</td>\n",
       "      <td>MOTO</td>\n",
       "      <td>SD</td>\n",
       "    </tr>\n",
       "    <tr>\n",
       "      <th>4</th>\n",
       "      <td>2016-0005</td>\n",
       "      <td>1</td>\n",
       "      <td>2016-01-21</td>\n",
       "      <td>05:20:00</td>\n",
       "      <td>AVENIDA</td>\n",
       "      <td>SAN JUAN AV. y SAENZ PEÃ‘A, LUIS, PRES.</td>\n",
       "      <td>ESQUINA</td>\n",
       "      <td>1</td>\n",
       "      <td>MOTO-PASAJEROS</td>\n",
       "      <td>MOTO</td>\n",
       "      <td>PASAJEROS</td>\n",
       "    </tr>\n",
       "    <tr>\n",
       "      <th>...</th>\n",
       "      <td>...</td>\n",
       "      <td>...</td>\n",
       "      <td>...</td>\n",
       "      <td>...</td>\n",
       "      <td>...</td>\n",
       "      <td>...</td>\n",
       "      <td>...</td>\n",
       "      <td>...</td>\n",
       "      <td>...</td>\n",
       "      <td>...</td>\n",
       "      <td>...</td>\n",
       "    </tr>\n",
       "    <tr>\n",
       "      <th>691</th>\n",
       "      <td>2021-0093</td>\n",
       "      <td>1</td>\n",
       "      <td>2021-12-13</td>\n",
       "      <td>17:10:00</td>\n",
       "      <td>AVENIDA</td>\n",
       "      <td>RIESTRA AV. y MOM</td>\n",
       "      <td>ESQUINA</td>\n",
       "      <td>7</td>\n",
       "      <td>MOTO-AUTO</td>\n",
       "      <td>MOTO</td>\n",
       "      <td>AUTO</td>\n",
       "    </tr>\n",
       "    <tr>\n",
       "      <th>692</th>\n",
       "      <td>2021-0094</td>\n",
       "      <td>1</td>\n",
       "      <td>2021-12-20</td>\n",
       "      <td>01:10:00</td>\n",
       "      <td>AUTOPISTA</td>\n",
       "      <td>DELLEPIANE, LUIS, TTE. GRAL. y LACARRA AV.</td>\n",
       "      <td>AUTOPISTA</td>\n",
       "      <td>9</td>\n",
       "      <td>MOTO-AUTO</td>\n",
       "      <td>MOTO</td>\n",
       "      <td>AUTO</td>\n",
       "    </tr>\n",
       "    <tr>\n",
       "      <th>693</th>\n",
       "      <td>2021-0095</td>\n",
       "      <td>1</td>\n",
       "      <td>2021-12-30</td>\n",
       "      <td>00:43:00</td>\n",
       "      <td>AVENIDA</td>\n",
       "      <td>GAONA AV. y TERRADA</td>\n",
       "      <td>ESQUINA</td>\n",
       "      <td>11</td>\n",
       "      <td>MOTO-CARGAS</td>\n",
       "      <td>MOTO</td>\n",
       "      <td>CARGAS</td>\n",
       "    </tr>\n",
       "    <tr>\n",
       "      <th>694</th>\n",
       "      <td>2021-0096</td>\n",
       "      <td>1</td>\n",
       "      <td>2021-12-15</td>\n",
       "      <td>10:30:00</td>\n",
       "      <td>AVENIDA</td>\n",
       "      <td>PERON, EVA AV. 4071</td>\n",
       "      <td>CUADRA</td>\n",
       "      <td>9</td>\n",
       "      <td>AUTO-CARGAS</td>\n",
       "      <td>AUTO</td>\n",
       "      <td>CARGAS</td>\n",
       "    </tr>\n",
       "    <tr>\n",
       "      <th>695</th>\n",
       "      <td>2021-0097</td>\n",
       "      <td>1</td>\n",
       "      <td>2021-11-18</td>\n",
       "      <td>06:10:00</td>\n",
       "      <td>CALLE</td>\n",
       "      <td>PADRE CARLOS MUGICA 709</td>\n",
       "      <td>CUADRA</td>\n",
       "      <td>1</td>\n",
       "      <td>BICICLETA-AUTO</td>\n",
       "      <td>BICICLETA</td>\n",
       "      <td>AUTO</td>\n",
       "    </tr>\n",
       "  </tbody>\n",
       "</table>\n",
       "<p>694 rows × 11 columns</p>\n",
       "</div>"
      ],
      "text/plain": [
       "            ID  N_VICTIMAS      FECHA      HORA TIPO_DE_CALLE  \\\n",
       "0    2016-0001           1 2016-01-01  04:00:00       AVENIDA   \n",
       "1    2016-0002           1 2016-01-02  01:15:00      GRAL PAZ   \n",
       "2    2016-0003           1 2016-01-03  07:00:00       AVENIDA   \n",
       "3    2016-0004           1 2016-01-10  00:00:00       AVENIDA   \n",
       "4    2016-0005           1 2016-01-21  05:20:00       AVENIDA   \n",
       "..         ...         ...        ...       ...           ...   \n",
       "691  2021-0093           1 2021-12-13  17:10:00       AVENIDA   \n",
       "692  2021-0094           1 2021-12-20  01:10:00     AUTOPISTA   \n",
       "693  2021-0095           1 2021-12-30  00:43:00       AVENIDA   \n",
       "694  2021-0096           1 2021-12-15  10:30:00       AVENIDA   \n",
       "695  2021-0097           1 2021-11-18  06:10:00         CALLE   \n",
       "\n",
       "                                 Dirección Normalizada TIPO_DE_ZONA  COMUNA  \\\n",
       "0    PIEDRA BUENA AV. y FERNANDEZ DE LA CRUZ, F., G...      ESQUINA       8   \n",
       "1                 PAZ, GRAL. AV. y DE LOS CORRALES AV.    AUTOPISTA       9   \n",
       "2                                  ENTRE RIOS AV. 2034       CUADRA       1   \n",
       "3            LARRAZABAL AV. y VILLEGAS, CONRADO, GRAL.      ESQUINA       8   \n",
       "4              SAN JUAN AV. y SAENZ PEÃ‘A, LUIS, PRES.      ESQUINA       1   \n",
       "..                                                 ...          ...     ...   \n",
       "691                                  RIESTRA AV. y MOM      ESQUINA       7   \n",
       "692         DELLEPIANE, LUIS, TTE. GRAL. y LACARRA AV.    AUTOPISTA       9   \n",
       "693                                GAONA AV. y TERRADA      ESQUINA      11   \n",
       "694                                PERON, EVA AV. 4071       CUADRA       9   \n",
       "695                            PADRE CARLOS MUGICA 709       CUADRA       1   \n",
       "\n",
       "      PARTICIPANTES    VICTIMA    ACUSADO  \n",
       "0         MOTO-AUTO       MOTO       AUTO  \n",
       "1    AUTO-PASAJEROS       AUTO  PASAJEROS  \n",
       "2         MOTO-AUTO       MOTO       AUTO  \n",
       "3           MOTO-SD       MOTO         SD  \n",
       "4    MOTO-PASAJEROS       MOTO  PASAJEROS  \n",
       "..              ...        ...        ...  \n",
       "691       MOTO-AUTO       MOTO       AUTO  \n",
       "692       MOTO-AUTO       MOTO       AUTO  \n",
       "693     MOTO-CARGAS       MOTO     CARGAS  \n",
       "694     AUTO-CARGAS       AUTO     CARGAS  \n",
       "695  BICICLETA-AUTO  BICICLETA       AUTO  \n",
       "\n",
       "[694 rows x 11 columns]"
      ]
     },
     "metadata": {},
     "output_type": "display_data"
    }
   ],
   "source": [
    "display(hom_hech_df)"
   ]
  },
  {
   "cell_type": "code",
   "execution_count": 24,
   "metadata": {},
   "outputs": [
    {
     "data": {
      "text/plain": [
       "715"
      ]
     },
     "execution_count": 24,
     "metadata": {},
     "output_type": "execute_result"
    }
   ],
   "source": [
    "hom_hech_df[\"N_VICTIMAS\"].sum()"
   ]
  },
  {
   "cell_type": "markdown",
   "metadata": {},
   "source": [
    "#### 1. Limpieza (?) de hom_vic_df"
   ]
  },
  {
   "cell_type": "code",
   "execution_count": 22,
   "metadata": {},
   "outputs": [
    {
     "name": "stdout",
     "output_type": "stream",
     "text": [
      "Cantidad de Filas y columnas: (717, 10)\n",
      "Nombre columnas: Index(['ID_hecho', 'FECHA', 'AAAA', 'MM', 'DD', 'ROL', 'VICTIMA', 'SEXO',\n",
      "       'EDAD', 'FECHA_FALLECIMIENTO'],\n",
      "      dtype='object')\n"
     ]
    }
   ],
   "source": [
    "# Explorar filas y columnas\n",
    "\n",
    "print('Cantidad de Filas y columnas:',hom_vic_df.shape)\n",
    "print('Nombre columnas:',hom_vic_df.columns)"
   ]
  },
  {
   "cell_type": "code",
   "execution_count": 25,
   "metadata": {},
   "outputs": [
    {
     "name": "stdout",
     "output_type": "stream",
     "text": [
      "<class 'pandas.core.frame.DataFrame'>\n",
      "RangeIndex: 717 entries, 0 to 716\n",
      "Data columns (total 10 columns):\n",
      " #   Column               Non-Null Count  Dtype \n",
      "---  ------               --------------  ----- \n",
      " 0   ID_hecho             717 non-null    object\n",
      " 1   FECHA                717 non-null    object\n",
      " 2   AAAA                 717 non-null    int64 \n",
      " 3   MM                   717 non-null    int64 \n",
      " 4   DD                   717 non-null    int64 \n",
      " 5   ROL                  717 non-null    object\n",
      " 6   VICTIMA              717 non-null    object\n",
      " 7   SEXO                 717 non-null    object\n",
      " 8   EDAD                 717 non-null    object\n",
      " 9   FECHA_FALLECIMIENTO  717 non-null    object\n",
      "dtypes: int64(3), object(7)\n",
      "memory usage: 56.1+ KB\n"
     ]
    }
   ],
   "source": [
    "# Exploro datos faltantes\n",
    "\n",
    "hom_vic_df.info()"
   ]
  },
  {
   "cell_type": "code",
   "execution_count": 26,
   "metadata": {},
   "outputs": [
    {
     "name": "stdout",
     "output_type": "stream",
     "text": [
      "Número de registros duplicados: 0\n"
     ]
    }
   ],
   "source": [
    "# Verificar si hay duplicados en el DataFrame\n",
    "duplicados = hom_vic_df.duplicated()\n",
    "\n",
    "# Contar el número de registros duplicados\n",
    "print(f\"Número de registros duplicados: {duplicados.sum()}\")\n"
   ]
  }
 ],
 "metadata": {
  "kernelspec": {
   "display_name": "Python 3",
   "language": "python",
   "name": "python3"
  },
  "language_info": {
   "codemirror_mode": {
    "name": "ipython",
    "version": 3
   },
   "file_extension": ".py",
   "mimetype": "text/x-python",
   "name": "python",
   "nbconvert_exporter": "python",
   "pygments_lexer": "ipython3",
   "version": "3.11.9"
  }
 },
 "nbformat": 4,
 "nbformat_minor": 2
}
